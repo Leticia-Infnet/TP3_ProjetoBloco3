{
  "cells": [
    {
      "cell_type": "code",
      "execution_count": 2,
      "metadata": {
        "id": "_wDbuzI0ZnMY"
      },
      "outputs": [],
      "source": [
        "import pandas as pd\n",
        "import plotly.express as px\n",
        "import plotly.io as pio\n",
        "from IPython.display import Image"
      ]
    },
    {
      "cell_type": "markdown",
      "metadata": {
        "id": "0_TPeFNSX6FT"
      },
      "source": [
        "# **Dataset Preços de Laptops**"
      ]
    },
    {
      "cell_type": "markdown",
      "metadata": {
        "id": "CCjExzDjYIGp"
      },
      "source": [
        "## **Sobre o Dataset**\n",
        "\n",
        "Este dataset fornece uma coleção abrangente de informações sobre diversos Notebooks, permitindo uma análise detalhada de suas especificações e preços. Ele abrange uma ampla gama de Notebooks, abrangendo diversas marcas, modelos e configurações, tornando-se um recurso valioso para pesquisadores, analistas de dados e entusiastas de aprendizado de máquina interessados ​​no setor de Hardware. O dataset está disponível no [Kaggle](https://www.kaggle.com/datasets/juanmerinobermejo/laptops-price-dataset/data)."
      ]
    },
    {
      "cell_type": "markdown",
      "metadata": {
        "id": "cEvIkAPpZJzv"
      },
      "source": [
        "### **Carregando o dataset e realizando análises iniciais**"
      ]
    },
    {
      "cell_type": "code",
      "execution_count": 3,
      "metadata": {
        "colab": {
          "base_uri": "https://localhost:8080/",
          "height": 206
        },
        "id": "q0r9YdLsZ4x0",
        "outputId": "0e5005dd-3915-4e25-a7dc-0c29835e44fb"
      },
      "outputs": [
        {
          "data": {
            "application/vnd.microsoft.datawrangler.viewer.v0+json": {
              "columns": [
                {
                  "name": "index",
                  "rawType": "int64",
                  "type": "integer"
                },
                {
                  "name": "Laptop",
                  "rawType": "object",
                  "type": "string"
                },
                {
                  "name": "Status",
                  "rawType": "object",
                  "type": "string"
                },
                {
                  "name": "Brand",
                  "rawType": "object",
                  "type": "string"
                },
                {
                  "name": "Model",
                  "rawType": "object",
                  "type": "string"
                },
                {
                  "name": "CPU",
                  "rawType": "object",
                  "type": "string"
                },
                {
                  "name": "RAM",
                  "rawType": "int64",
                  "type": "integer"
                },
                {
                  "name": "Storage",
                  "rawType": "int64",
                  "type": "integer"
                },
                {
                  "name": "Storage type",
                  "rawType": "object",
                  "type": "string"
                },
                {
                  "name": "GPU",
                  "rawType": "object",
                  "type": "unknown"
                },
                {
                  "name": "Screen",
                  "rawType": "float64",
                  "type": "float"
                },
                {
                  "name": "Touch",
                  "rawType": "object",
                  "type": "string"
                },
                {
                  "name": "Final Price",
                  "rawType": "float64",
                  "type": "float"
                }
              ],
              "conversionMethod": "pd.DataFrame",
              "ref": "c7747886-e912-4020-9d63-b841059cd195",
              "rows": [
                [
                  "0",
                  "ASUS ExpertBook B1 B1502CBA-EJ0436X Intel Core i5-1235U/8GB/512GB SSD/15.6\"",
                  "New",
                  "Asus",
                  "ExpertBook",
                  "Intel Core i5",
                  "8",
                  "512",
                  "SSD",
                  null,
                  "15.6",
                  "No",
                  "1009.0"
                ],
                [
                  "1",
                  "Alurin Go Start Intel Celeron N4020/8GB/256GB SSD/15.6\"",
                  "New",
                  "Alurin",
                  "Go",
                  "Intel Celeron",
                  "8",
                  "256",
                  "SSD",
                  null,
                  "15.6",
                  "No",
                  "299.0"
                ],
                [
                  "2",
                  "ASUS ExpertBook B1 B1502CBA-EJ0424X Intel Core i3-1215U/8GB/256GB SSD/15.6\"",
                  "New",
                  "Asus",
                  "ExpertBook",
                  "Intel Core i3",
                  "8",
                  "256",
                  "SSD",
                  null,
                  "15.6",
                  "No",
                  "789.0"
                ],
                [
                  "3",
                  "MSI Katana GF66 12UC-082XES Intel Core i7-12700H/16GB/1TB SSD/RTX3050/15.6\"",
                  "New",
                  "MSI",
                  "Katana",
                  "Intel Core i7",
                  "16",
                  "1000",
                  "SSD",
                  "RTX 3050",
                  "15.6",
                  "No",
                  "1199.0"
                ],
                [
                  "4",
                  "HP 15S-FQ5085NS Intel Core i5-1235U/16GB/512GB SSD/15.6\"",
                  "New",
                  "HP",
                  "15S",
                  "Intel Core i5",
                  "16",
                  "512",
                  "SSD",
                  null,
                  "15.6",
                  "No",
                  "669.01"
                ]
              ],
              "shape": {
                "columns": 12,
                "rows": 5
              }
            },
            "text/html": [
              "<div>\n",
              "<style scoped>\n",
              "    .dataframe tbody tr th:only-of-type {\n",
              "        vertical-align: middle;\n",
              "    }\n",
              "\n",
              "    .dataframe tbody tr th {\n",
              "        vertical-align: top;\n",
              "    }\n",
              "\n",
              "    .dataframe thead th {\n",
              "        text-align: right;\n",
              "    }\n",
              "</style>\n",
              "<table border=\"1\" class=\"dataframe\">\n",
              "  <thead>\n",
              "    <tr style=\"text-align: right;\">\n",
              "      <th></th>\n",
              "      <th>Laptop</th>\n",
              "      <th>Status</th>\n",
              "      <th>Brand</th>\n",
              "      <th>Model</th>\n",
              "      <th>CPU</th>\n",
              "      <th>RAM</th>\n",
              "      <th>Storage</th>\n",
              "      <th>Storage type</th>\n",
              "      <th>GPU</th>\n",
              "      <th>Screen</th>\n",
              "      <th>Touch</th>\n",
              "      <th>Final Price</th>\n",
              "    </tr>\n",
              "  </thead>\n",
              "  <tbody>\n",
              "    <tr>\n",
              "      <th>0</th>\n",
              "      <td>ASUS ExpertBook B1 B1502CBA-EJ0436X Intel Core...</td>\n",
              "      <td>New</td>\n",
              "      <td>Asus</td>\n",
              "      <td>ExpertBook</td>\n",
              "      <td>Intel Core i5</td>\n",
              "      <td>8</td>\n",
              "      <td>512</td>\n",
              "      <td>SSD</td>\n",
              "      <td>NaN</td>\n",
              "      <td>15.6</td>\n",
              "      <td>No</td>\n",
              "      <td>1009.00</td>\n",
              "    </tr>\n",
              "    <tr>\n",
              "      <th>1</th>\n",
              "      <td>Alurin Go Start Intel Celeron N4020/8GB/256GB ...</td>\n",
              "      <td>New</td>\n",
              "      <td>Alurin</td>\n",
              "      <td>Go</td>\n",
              "      <td>Intel Celeron</td>\n",
              "      <td>8</td>\n",
              "      <td>256</td>\n",
              "      <td>SSD</td>\n",
              "      <td>NaN</td>\n",
              "      <td>15.6</td>\n",
              "      <td>No</td>\n",
              "      <td>299.00</td>\n",
              "    </tr>\n",
              "    <tr>\n",
              "      <th>2</th>\n",
              "      <td>ASUS ExpertBook B1 B1502CBA-EJ0424X Intel Core...</td>\n",
              "      <td>New</td>\n",
              "      <td>Asus</td>\n",
              "      <td>ExpertBook</td>\n",
              "      <td>Intel Core i3</td>\n",
              "      <td>8</td>\n",
              "      <td>256</td>\n",
              "      <td>SSD</td>\n",
              "      <td>NaN</td>\n",
              "      <td>15.6</td>\n",
              "      <td>No</td>\n",
              "      <td>789.00</td>\n",
              "    </tr>\n",
              "    <tr>\n",
              "      <th>3</th>\n",
              "      <td>MSI Katana GF66 12UC-082XES Intel Core i7-1270...</td>\n",
              "      <td>New</td>\n",
              "      <td>MSI</td>\n",
              "      <td>Katana</td>\n",
              "      <td>Intel Core i7</td>\n",
              "      <td>16</td>\n",
              "      <td>1000</td>\n",
              "      <td>SSD</td>\n",
              "      <td>RTX 3050</td>\n",
              "      <td>15.6</td>\n",
              "      <td>No</td>\n",
              "      <td>1199.00</td>\n",
              "    </tr>\n",
              "    <tr>\n",
              "      <th>4</th>\n",
              "      <td>HP 15S-FQ5085NS Intel Core i5-1235U/16GB/512GB...</td>\n",
              "      <td>New</td>\n",
              "      <td>HP</td>\n",
              "      <td>15S</td>\n",
              "      <td>Intel Core i5</td>\n",
              "      <td>16</td>\n",
              "      <td>512</td>\n",
              "      <td>SSD</td>\n",
              "      <td>NaN</td>\n",
              "      <td>15.6</td>\n",
              "      <td>No</td>\n",
              "      <td>669.01</td>\n",
              "    </tr>\n",
              "  </tbody>\n",
              "</table>\n",
              "</div>"
            ],
            "text/plain": [
              "                                              Laptop Status   Brand  \\\n",
              "0  ASUS ExpertBook B1 B1502CBA-EJ0436X Intel Core...    New    Asus   \n",
              "1  Alurin Go Start Intel Celeron N4020/8GB/256GB ...    New  Alurin   \n",
              "2  ASUS ExpertBook B1 B1502CBA-EJ0424X Intel Core...    New    Asus   \n",
              "3  MSI Katana GF66 12UC-082XES Intel Core i7-1270...    New     MSI   \n",
              "4  HP 15S-FQ5085NS Intel Core i5-1235U/16GB/512GB...    New      HP   \n",
              "\n",
              "        Model            CPU  RAM  Storage Storage type       GPU  Screen  \\\n",
              "0  ExpertBook  Intel Core i5    8      512          SSD       NaN    15.6   \n",
              "1          Go  Intel Celeron    8      256          SSD       NaN    15.6   \n",
              "2  ExpertBook  Intel Core i3    8      256          SSD       NaN    15.6   \n",
              "3      Katana  Intel Core i7   16     1000          SSD  RTX 3050    15.6   \n",
              "4         15S  Intel Core i5   16      512          SSD       NaN    15.6   \n",
              "\n",
              "  Touch  Final Price  \n",
              "0    No      1009.00  \n",
              "1    No       299.00  \n",
              "2    No       789.00  \n",
              "3    No      1199.00  \n",
              "4    No       669.01  "
            ]
          },
          "execution_count": 3,
          "metadata": {},
          "output_type": "execute_result"
        }
      ],
      "source": [
        "df_laptops = pd.read_csv('laptops.csv')\n",
        "\n",
        "df_laptops.head()"
      ]
    },
    {
      "cell_type": "code",
      "execution_count": 4,
      "metadata": {
        "colab": {
          "base_uri": "https://localhost:8080/"
        },
        "id": "vKrGEMI2aBca",
        "outputId": "2e522e60-a736-4cfc-b044-3cba12d49ecd"
      },
      "outputs": [
        {
          "name": "stdout",
          "output_type": "stream",
          "text": [
            "<class 'pandas.core.frame.DataFrame'>\n",
            "RangeIndex: 2160 entries, 0 to 2159\n",
            "Data columns (total 12 columns):\n",
            " #   Column        Non-Null Count  Dtype  \n",
            "---  ------        --------------  -----  \n",
            " 0   Laptop        2160 non-null   object \n",
            " 1   Status        2160 non-null   object \n",
            " 2   Brand         2160 non-null   object \n",
            " 3   Model         2160 non-null   object \n",
            " 4   CPU           2160 non-null   object \n",
            " 5   RAM           2160 non-null   int64  \n",
            " 6   Storage       2160 non-null   int64  \n",
            " 7   Storage type  2118 non-null   object \n",
            " 8   GPU           789 non-null    object \n",
            " 9   Screen        2156 non-null   float64\n",
            " 10  Touch         2160 non-null   object \n",
            " 11  Final Price   2160 non-null   float64\n",
            "dtypes: float64(2), int64(2), object(8)\n",
            "memory usage: 202.6+ KB\n"
          ]
        }
      ],
      "source": [
        "df_laptops.info()"
      ]
    },
    {
      "cell_type": "code",
      "execution_count": 5,
      "metadata": {
        "colab": {
          "base_uri": "https://localhost:8080/",
          "height": 300
        },
        "id": "BXnqMNIJbByd",
        "outputId": "5bedb4a1-b6dd-4cf7-d168-dcb35e518030"
      },
      "outputs": [
        {
          "data": {
            "application/vnd.microsoft.datawrangler.viewer.v0+json": {
              "columns": [
                {
                  "name": "index",
                  "rawType": "object",
                  "type": "string"
                },
                {
                  "name": "RAM",
                  "rawType": "float64",
                  "type": "float"
                },
                {
                  "name": "Storage",
                  "rawType": "float64",
                  "type": "float"
                },
                {
                  "name": "Screen",
                  "rawType": "float64",
                  "type": "float"
                },
                {
                  "name": "Final Price",
                  "rawType": "float64",
                  "type": "float"
                }
              ],
              "conversionMethod": "pd.DataFrame",
              "ref": "d73a4293-96aa-4df7-85d6-3093dd4daa67",
              "rows": [
                [
                  "count",
                  "2160.0",
                  "2160.0",
                  "2156.0",
                  "2160.0"
                ],
                [
                  "mean",
                  "15.41388888888889",
                  "596.2944444444445",
                  "15.168112244897959",
                  "1312.638509259259"
                ],
                [
                  "std",
                  "9.86781518066232",
                  "361.22050628511795",
                  "1.2033287583284522",
                  "911.4754170328515"
                ],
                [
                  "min",
                  "4.0",
                  "0.0",
                  "10.1",
                  "201.05"
                ],
                [
                  "25%",
                  "8.0",
                  "256.0",
                  "14.0",
                  "661.0825"
                ],
                [
                  "50%",
                  "16.0",
                  "512.0",
                  "15.6",
                  "1031.9450000000002"
                ],
                [
                  "75%",
                  "16.0",
                  "1000.0",
                  "15.6",
                  "1708.97"
                ],
                [
                  "max",
                  "128.0",
                  "4000.0",
                  "18.0",
                  "7150.47"
                ]
              ],
              "shape": {
                "columns": 4,
                "rows": 8
              }
            },
            "text/html": [
              "<div>\n",
              "<style scoped>\n",
              "    .dataframe tbody tr th:only-of-type {\n",
              "        vertical-align: middle;\n",
              "    }\n",
              "\n",
              "    .dataframe tbody tr th {\n",
              "        vertical-align: top;\n",
              "    }\n",
              "\n",
              "    .dataframe thead th {\n",
              "        text-align: right;\n",
              "    }\n",
              "</style>\n",
              "<table border=\"1\" class=\"dataframe\">\n",
              "  <thead>\n",
              "    <tr style=\"text-align: right;\">\n",
              "      <th></th>\n",
              "      <th>RAM</th>\n",
              "      <th>Storage</th>\n",
              "      <th>Screen</th>\n",
              "      <th>Final Price</th>\n",
              "    </tr>\n",
              "  </thead>\n",
              "  <tbody>\n",
              "    <tr>\n",
              "      <th>count</th>\n",
              "      <td>2160.000000</td>\n",
              "      <td>2160.000000</td>\n",
              "      <td>2156.000000</td>\n",
              "      <td>2160.000000</td>\n",
              "    </tr>\n",
              "    <tr>\n",
              "      <th>mean</th>\n",
              "      <td>15.413889</td>\n",
              "      <td>596.294444</td>\n",
              "      <td>15.168112</td>\n",
              "      <td>1312.638509</td>\n",
              "    </tr>\n",
              "    <tr>\n",
              "      <th>std</th>\n",
              "      <td>9.867815</td>\n",
              "      <td>361.220506</td>\n",
              "      <td>1.203329</td>\n",
              "      <td>911.475417</td>\n",
              "    </tr>\n",
              "    <tr>\n",
              "      <th>min</th>\n",
              "      <td>4.000000</td>\n",
              "      <td>0.000000</td>\n",
              "      <td>10.100000</td>\n",
              "      <td>201.050000</td>\n",
              "    </tr>\n",
              "    <tr>\n",
              "      <th>25%</th>\n",
              "      <td>8.000000</td>\n",
              "      <td>256.000000</td>\n",
              "      <td>14.000000</td>\n",
              "      <td>661.082500</td>\n",
              "    </tr>\n",
              "    <tr>\n",
              "      <th>50%</th>\n",
              "      <td>16.000000</td>\n",
              "      <td>512.000000</td>\n",
              "      <td>15.600000</td>\n",
              "      <td>1031.945000</td>\n",
              "    </tr>\n",
              "    <tr>\n",
              "      <th>75%</th>\n",
              "      <td>16.000000</td>\n",
              "      <td>1000.000000</td>\n",
              "      <td>15.600000</td>\n",
              "      <td>1708.970000</td>\n",
              "    </tr>\n",
              "    <tr>\n",
              "      <th>max</th>\n",
              "      <td>128.000000</td>\n",
              "      <td>4000.000000</td>\n",
              "      <td>18.000000</td>\n",
              "      <td>7150.470000</td>\n",
              "    </tr>\n",
              "  </tbody>\n",
              "</table>\n",
              "</div>"
            ],
            "text/plain": [
              "               RAM      Storage       Screen  Final Price\n",
              "count  2160.000000  2160.000000  2156.000000  2160.000000\n",
              "mean     15.413889   596.294444    15.168112  1312.638509\n",
              "std       9.867815   361.220506     1.203329   911.475417\n",
              "min       4.000000     0.000000    10.100000   201.050000\n",
              "25%       8.000000   256.000000    14.000000   661.082500\n",
              "50%      16.000000   512.000000    15.600000  1031.945000\n",
              "75%      16.000000  1000.000000    15.600000  1708.970000\n",
              "max     128.000000  4000.000000    18.000000  7150.470000"
            ]
          },
          "execution_count": 5,
          "metadata": {},
          "output_type": "execute_result"
        }
      ],
      "source": [
        "df_laptops.describe()"
      ]
    },
    {
      "cell_type": "markdown",
      "metadata": {
        "id": "l2CbwYXIcR-5"
      },
      "source": [
        "### **1ª Análise: Distribuição de preços dos notebooks com GPUs RTX**\n",
        "\n",
        "A seguinte análise busca analisar a distribuição dos preços dos notebooks de acordo com o tipo de GPU da série NVIDIA RTX."
      ]
    },
    {
      "cell_type": "markdown",
      "metadata": {
        "id": "WHRMmMXoeADG"
      },
      "source": [
        "Filtrando o dataframe para conter apenas Notebooks que possuam GPU RTX:"
      ]
    },
    {
      "cell_type": "code",
      "execution_count": 6,
      "metadata": {
        "colab": {
          "base_uri": "https://localhost:8080/",
          "height": 206
        },
        "id": "KwFu6dg5ddZY",
        "outputId": "10c89e74-5d05-450a-af35-a5e380b67e7d"
      },
      "outputs": [
        {
          "data": {
            "application/vnd.microsoft.datawrangler.viewer.v0+json": {
              "columns": [
                {
                  "name": "index",
                  "rawType": "int64",
                  "type": "integer"
                },
                {
                  "name": "Laptop",
                  "rawType": "object",
                  "type": "string"
                },
                {
                  "name": "Status",
                  "rawType": "object",
                  "type": "string"
                },
                {
                  "name": "Brand",
                  "rawType": "object",
                  "type": "string"
                },
                {
                  "name": "Model",
                  "rawType": "object",
                  "type": "string"
                },
                {
                  "name": "CPU",
                  "rawType": "object",
                  "type": "string"
                },
                {
                  "name": "RAM",
                  "rawType": "int64",
                  "type": "integer"
                },
                {
                  "name": "Storage",
                  "rawType": "int64",
                  "type": "integer"
                },
                {
                  "name": "Storage type",
                  "rawType": "object",
                  "type": "string"
                },
                {
                  "name": "GPU",
                  "rawType": "object",
                  "type": "string"
                },
                {
                  "name": "Screen",
                  "rawType": "float64",
                  "type": "float"
                },
                {
                  "name": "Touch",
                  "rawType": "object",
                  "type": "string"
                },
                {
                  "name": "Final Price",
                  "rawType": "float64",
                  "type": "float"
                }
              ],
              "conversionMethod": "pd.DataFrame",
              "ref": "dd5667c4-fceb-4ae6-9857-92fabea17a5a",
              "rows": [
                [
                  "3",
                  "MSI Katana GF66 12UC-082XES Intel Core i7-12700H/16GB/1TB SSD/RTX3050/15.6\"",
                  "New",
                  "MSI",
                  "Katana",
                  "Intel Core i7",
                  "16",
                  "1000",
                  "SSD",
                  "RTX 3050",
                  "15.6",
                  "No",
                  "1199.0"
                ],
                [
                  "5",
                  "MSI Crosshair 17 C12VF-264XES Intel Core i7-12650H/32GB/1TB SSD/RTX 4060/17.3\"",
                  "New",
                  "MSI",
                  "Crosshair",
                  "Intel Core i7",
                  "32",
                  "1000",
                  "SSD",
                  "RTX 4060",
                  "17.3",
                  "No",
                  "1699.0"
                ],
                [
                  "9",
                  "HP Victus 16-d1038ns Intel Core i7-12700H/16GB/512GB SSD/RTX 3050/16.1\"",
                  "New",
                  "HP",
                  "Victus",
                  "Intel Core i7",
                  "16",
                  "512",
                  "SSD",
                  "RTX 3050",
                  "16.1",
                  "No",
                  "1149.0"
                ],
                [
                  "11",
                  "MSI Thin GF63 12VE-021XES Intel Core i7-12650H/16GB/1TB SSD/RTX 4050/15.6\"",
                  "New",
                  "MSI",
                  "Thin",
                  "Intel Core i7",
                  "16",
                  "1000",
                  "SSD",
                  "RTX 4050",
                  "15.6",
                  "No",
                  "1399.0"
                ],
                [
                  "12",
                  "ASUS ROG Strix G15 G513RC-HN088 AMD Ryzen 7 6800H/16GB/512GB SSD/RTX 3050/15.6\"",
                  "New",
                  "Asus",
                  "ROG",
                  "AMD Ryzen 7",
                  "16",
                  "512",
                  "SSD",
                  "RTX 3050",
                  "15.6",
                  "No",
                  "1199.0"
                ]
              ],
              "shape": {
                "columns": 12,
                "rows": 5
              }
            },
            "text/html": [
              "<div>\n",
              "<style scoped>\n",
              "    .dataframe tbody tr th:only-of-type {\n",
              "        vertical-align: middle;\n",
              "    }\n",
              "\n",
              "    .dataframe tbody tr th {\n",
              "        vertical-align: top;\n",
              "    }\n",
              "\n",
              "    .dataframe thead th {\n",
              "        text-align: right;\n",
              "    }\n",
              "</style>\n",
              "<table border=\"1\" class=\"dataframe\">\n",
              "  <thead>\n",
              "    <tr style=\"text-align: right;\">\n",
              "      <th></th>\n",
              "      <th>Laptop</th>\n",
              "      <th>Status</th>\n",
              "      <th>Brand</th>\n",
              "      <th>Model</th>\n",
              "      <th>CPU</th>\n",
              "      <th>RAM</th>\n",
              "      <th>Storage</th>\n",
              "      <th>Storage type</th>\n",
              "      <th>GPU</th>\n",
              "      <th>Screen</th>\n",
              "      <th>Touch</th>\n",
              "      <th>Final Price</th>\n",
              "    </tr>\n",
              "  </thead>\n",
              "  <tbody>\n",
              "    <tr>\n",
              "      <th>3</th>\n",
              "      <td>MSI Katana GF66 12UC-082XES Intel Core i7-1270...</td>\n",
              "      <td>New</td>\n",
              "      <td>MSI</td>\n",
              "      <td>Katana</td>\n",
              "      <td>Intel Core i7</td>\n",
              "      <td>16</td>\n",
              "      <td>1000</td>\n",
              "      <td>SSD</td>\n",
              "      <td>RTX 3050</td>\n",
              "      <td>15.6</td>\n",
              "      <td>No</td>\n",
              "      <td>1199.0</td>\n",
              "    </tr>\n",
              "    <tr>\n",
              "      <th>5</th>\n",
              "      <td>MSI Crosshair 17 C12VF-264XES Intel Core i7-12...</td>\n",
              "      <td>New</td>\n",
              "      <td>MSI</td>\n",
              "      <td>Crosshair</td>\n",
              "      <td>Intel Core i7</td>\n",
              "      <td>32</td>\n",
              "      <td>1000</td>\n",
              "      <td>SSD</td>\n",
              "      <td>RTX 4060</td>\n",
              "      <td>17.3</td>\n",
              "      <td>No</td>\n",
              "      <td>1699.0</td>\n",
              "    </tr>\n",
              "    <tr>\n",
              "      <th>9</th>\n",
              "      <td>HP Victus 16-d1038ns Intel Core i7-12700H/16GB...</td>\n",
              "      <td>New</td>\n",
              "      <td>HP</td>\n",
              "      <td>Victus</td>\n",
              "      <td>Intel Core i7</td>\n",
              "      <td>16</td>\n",
              "      <td>512</td>\n",
              "      <td>SSD</td>\n",
              "      <td>RTX 3050</td>\n",
              "      <td>16.1</td>\n",
              "      <td>No</td>\n",
              "      <td>1149.0</td>\n",
              "    </tr>\n",
              "    <tr>\n",
              "      <th>11</th>\n",
              "      <td>MSI Thin GF63 12VE-021XES Intel Core i7-12650H...</td>\n",
              "      <td>New</td>\n",
              "      <td>MSI</td>\n",
              "      <td>Thin</td>\n",
              "      <td>Intel Core i7</td>\n",
              "      <td>16</td>\n",
              "      <td>1000</td>\n",
              "      <td>SSD</td>\n",
              "      <td>RTX 4050</td>\n",
              "      <td>15.6</td>\n",
              "      <td>No</td>\n",
              "      <td>1399.0</td>\n",
              "    </tr>\n",
              "    <tr>\n",
              "      <th>12</th>\n",
              "      <td>ASUS ROG Strix G15 G513RC-HN088 AMD Ryzen 7 68...</td>\n",
              "      <td>New</td>\n",
              "      <td>Asus</td>\n",
              "      <td>ROG</td>\n",
              "      <td>AMD Ryzen 7</td>\n",
              "      <td>16</td>\n",
              "      <td>512</td>\n",
              "      <td>SSD</td>\n",
              "      <td>RTX 3050</td>\n",
              "      <td>15.6</td>\n",
              "      <td>No</td>\n",
              "      <td>1199.0</td>\n",
              "    </tr>\n",
              "  </tbody>\n",
              "</table>\n",
              "</div>"
            ],
            "text/plain": [
              "                                               Laptop Status Brand      Model  \\\n",
              "3   MSI Katana GF66 12UC-082XES Intel Core i7-1270...    New   MSI     Katana   \n",
              "5   MSI Crosshair 17 C12VF-264XES Intel Core i7-12...    New   MSI  Crosshair   \n",
              "9   HP Victus 16-d1038ns Intel Core i7-12700H/16GB...    New    HP     Victus   \n",
              "11  MSI Thin GF63 12VE-021XES Intel Core i7-12650H...    New   MSI       Thin   \n",
              "12  ASUS ROG Strix G15 G513RC-HN088 AMD Ryzen 7 68...    New  Asus        ROG   \n",
              "\n",
              "              CPU  RAM  Storage Storage type       GPU  Screen Touch  \\\n",
              "3   Intel Core i7   16     1000          SSD  RTX 3050    15.6    No   \n",
              "5   Intel Core i7   32     1000          SSD  RTX 4060    17.3    No   \n",
              "9   Intel Core i7   16      512          SSD  RTX 3050    16.1    No   \n",
              "11  Intel Core i7   16     1000          SSD  RTX 4050    15.6    No   \n",
              "12    AMD Ryzen 7   16      512          SSD  RTX 3050    15.6    No   \n",
              "\n",
              "    Final Price  \n",
              "3        1199.0  \n",
              "5        1699.0  \n",
              "9        1149.0  \n",
              "11       1399.0  \n",
              "12       1199.0  "
            ]
          },
          "execution_count": 6,
          "metadata": {},
          "output_type": "execute_result"
        }
      ],
      "source": [
        "df_laptops_rtx = df_laptops[df_laptops['GPU'].fillna('').str.contains('RTX')]\n",
        "\n",
        "df_laptops_rtx.head()"
      ]
    },
    {
      "cell_type": "markdown",
      "metadata": {
        "id": "CcMqHD2U1eIK"
      },
      "source": [
        "Gerando o gráfico:"
      ]
    },
    {
      "cell_type": "code",
      "execution_count": 7,
      "metadata": {
        "colab": {
          "base_uri": "https://localhost:8080/",
          "height": 542
        },
        "id": "wG0Ruptqesbh",
        "outputId": "f0dc0061-00d6-4e5c-f78a-69ce71ab3246"
      },
      "outputs": [
        {
          "data": {
            "image/png": "[encoded data removed]",
            "text/plain": [
              "<IPython.core.display.Image object>"
            ]
          },
          "execution_count": 7,
          "metadata": {},
          "output_type": "execute_result"
        }
      ],
      "source": [
        "fig1 = px.box(df_laptops_rtx,\n",
        "             x='GPU',\n",
        "             y='Final Price',\n",
        "             title='Box Plot de Preços de Notebooks por GPU (Série RTX)',\n",
        "             labels={'GPU' : 'GPU',\n",
        "                     'Final Price' : 'Preço (Dólares)',\n",
        "                     })\n",
        "\n",
        "img_bytes = pio.to_image(fig1, format=\"png\")\n",
        "\n",
        "Image(img_bytes)"
      ]
    },
    {
      "cell_type": "markdown",
      "metadata": {},
      "source": [
        "Salvando o gráfico como PNG:"
      ]
    },
    {
      "cell_type": "code",
      "execution_count": 8,
      "metadata": {},
      "outputs": [],
      "source": [
        "fig1.write_image(\"figura_boxplot_gpu.png\")"
      ]
    },
    {
      "cell_type": "markdown",
      "metadata": {
        "id": "uM7sgc73kXjs"
      },
      "source": [
        "### **2ª Análise: Distribuição de preços dos notebooks com CPUs Intel**\n",
        "\n",
        "A seguinte análise busca analisar a distribuição dos preços dos notebooks de acordo com o tipo de CPU da série Intel."
      ]
    },
    {
      "cell_type": "markdown",
      "metadata": {
        "id": "sZx1PJCk0t8q"
      },
      "source": [
        "Filtrando o dataframe para conter apenas Notebooks que possuam CPU Intel:"
      ]
    },
    {
      "cell_type": "code",
      "execution_count": 9,
      "metadata": {
        "colab": {
          "base_uri": "https://localhost:8080/",
          "height": 206
        },
        "id": "ka1wIH5Wkz_H",
        "outputId": "623f6ea1-ff9e-47e8-c1ad-f212d92a654b"
      },
      "outputs": [
        {
          "data": {
            "application/vnd.microsoft.datawrangler.viewer.v0+json": {
              "columns": [
                {
                  "name": "index",
                  "rawType": "int64",
                  "type": "integer"
                },
                {
                  "name": "Laptop",
                  "rawType": "object",
                  "type": "string"
                },
                {
                  "name": "Status",
                  "rawType": "object",
                  "type": "string"
                },
                {
                  "name": "Brand",
                  "rawType": "object",
                  "type": "string"
                },
                {
                  "name": "Model",
                  "rawType": "object",
                  "type": "string"
                },
                {
                  "name": "CPU",
                  "rawType": "object",
                  "type": "string"
                },
                {
                  "name": "RAM",
                  "rawType": "int64",
                  "type": "integer"
                },
                {
                  "name": "Storage",
                  "rawType": "int64",
                  "type": "integer"
                },
                {
                  "name": "Storage type",
                  "rawType": "object",
                  "type": "string"
                },
                {
                  "name": "GPU",
                  "rawType": "object",
                  "type": "unknown"
                },
                {
                  "name": "Screen",
                  "rawType": "float64",
                  "type": "float"
                },
                {
                  "name": "Touch",
                  "rawType": "object",
                  "type": "string"
                },
                {
                  "name": "Final Price",
                  "rawType": "float64",
                  "type": "float"
                }
              ],
              "conversionMethod": "pd.DataFrame",
              "ref": "ef3dd334-89e8-48ab-8f6e-bdd76371ccda",
              "rows": [
                [
                  "0",
                  "ASUS ExpertBook B1 B1502CBA-EJ0436X Intel Core i5-1235U/8GB/512GB SSD/15.6\"",
                  "New",
                  "Asus",
                  "ExpertBook",
                  "Intel Core i5",
                  "8",
                  "512",
                  "SSD",
                  null,
                  "15.6",
                  "No",
                  "1009.0"
                ],
                [
                  "1",
                  "Alurin Go Start Intel Celeron N4020/8GB/256GB SSD/15.6\"",
                  "New",
                  "Alurin",
                  "Go",
                  "Intel Celeron",
                  "8",
                  "256",
                  "SSD",
                  null,
                  "15.6",
                  "No",
                  "299.0"
                ],
                [
                  "2",
                  "ASUS ExpertBook B1 B1502CBA-EJ0424X Intel Core i3-1215U/8GB/256GB SSD/15.6\"",
                  "New",
                  "Asus",
                  "ExpertBook",
                  "Intel Core i3",
                  "8",
                  "256",
                  "SSD",
                  null,
                  "15.6",
                  "No",
                  "789.0"
                ],
                [
                  "3",
                  "MSI Katana GF66 12UC-082XES Intel Core i7-12700H/16GB/1TB SSD/RTX3050/15.6\"",
                  "New",
                  "MSI",
                  "Katana",
                  "Intel Core i7",
                  "16",
                  "1000",
                  "SSD",
                  "RTX 3050",
                  "15.6",
                  "No",
                  "1199.0"
                ],
                [
                  "4",
                  "HP 15S-FQ5085NS Intel Core i5-1235U/16GB/512GB SSD/15.6\"",
                  "New",
                  "HP",
                  "15S",
                  "Intel Core i5",
                  "16",
                  "512",
                  "SSD",
                  null,
                  "15.6",
                  "No",
                  "669.01"
                ]
              ],
              "shape": {
                "columns": 12,
                "rows": 5
              }
            },
            "text/html": [
              "<div>\n",
              "<style scoped>\n",
              "    .dataframe tbody tr th:only-of-type {\n",
              "        vertical-align: middle;\n",
              "    }\n",
              "\n",
              "    .dataframe tbody tr th {\n",
              "        vertical-align: top;\n",
              "    }\n",
              "\n",
              "    .dataframe thead th {\n",
              "        text-align: right;\n",
              "    }\n",
              "</style>\n",
              "<table border=\"1\" class=\"dataframe\">\n",
              "  <thead>\n",
              "    <tr style=\"text-align: right;\">\n",
              "      <th></th>\n",
              "      <th>Laptop</th>\n",
              "      <th>Status</th>\n",
              "      <th>Brand</th>\n",
              "      <th>Model</th>\n",
              "      <th>CPU</th>\n",
              "      <th>RAM</th>\n",
              "      <th>Storage</th>\n",
              "      <th>Storage type</th>\n",
              "      <th>GPU</th>\n",
              "      <th>Screen</th>\n",
              "      <th>Touch</th>\n",
              "      <th>Final Price</th>\n",
              "    </tr>\n",
              "  </thead>\n",
              "  <tbody>\n",
              "    <tr>\n",
              "      <th>0</th>\n",
              "      <td>ASUS ExpertBook B1 B1502CBA-EJ0436X Intel Core...</td>\n",
              "      <td>New</td>\n",
              "      <td>Asus</td>\n",
              "      <td>ExpertBook</td>\n",
              "      <td>Intel Core i5</td>\n",
              "      <td>8</td>\n",
              "      <td>512</td>\n",
              "      <td>SSD</td>\n",
              "      <td>NaN</td>\n",
              "      <td>15.6</td>\n",
              "      <td>No</td>\n",
              "      <td>1009.00</td>\n",
              "    </tr>\n",
              "    <tr>\n",
              "      <th>1</th>\n",
              "      <td>Alurin Go Start Intel Celeron N4020/8GB/256GB ...</td>\n",
              "      <td>New</td>\n",
              "      <td>Alurin</td>\n",
              "      <td>Go</td>\n",
              "      <td>Intel Celeron</td>\n",
              "      <td>8</td>\n",
              "      <td>256</td>\n",
              "      <td>SSD</td>\n",
              "      <td>NaN</td>\n",
              "      <td>15.6</td>\n",
              "      <td>No</td>\n",
              "      <td>299.00</td>\n",
              "    </tr>\n",
              "    <tr>\n",
              "      <th>2</th>\n",
              "      <td>ASUS ExpertBook B1 B1502CBA-EJ0424X Intel Core...</td>\n",
              "      <td>New</td>\n",
              "      <td>Asus</td>\n",
              "      <td>ExpertBook</td>\n",
              "      <td>Intel Core i3</td>\n",
              "      <td>8</td>\n",
              "      <td>256</td>\n",
              "      <td>SSD</td>\n",
              "      <td>NaN</td>\n",
              "      <td>15.6</td>\n",
              "      <td>No</td>\n",
              "      <td>789.00</td>\n",
              "    </tr>\n",
              "    <tr>\n",
              "      <th>3</th>\n",
              "      <td>MSI Katana GF66 12UC-082XES Intel Core i7-1270...</td>\n",
              "      <td>New</td>\n",
              "      <td>MSI</td>\n",
              "      <td>Katana</td>\n",
              "      <td>Intel Core i7</td>\n",
              "      <td>16</td>\n",
              "      <td>1000</td>\n",
              "      <td>SSD</td>\n",
              "      <td>RTX 3050</td>\n",
              "      <td>15.6</td>\n",
              "      <td>No</td>\n",
              "      <td>1199.00</td>\n",
              "    </tr>\n",
              "    <tr>\n",
              "      <th>4</th>\n",
              "      <td>HP 15S-FQ5085NS Intel Core i5-1235U/16GB/512GB...</td>\n",
              "      <td>New</td>\n",
              "      <td>HP</td>\n",
              "      <td>15S</td>\n",
              "      <td>Intel Core i5</td>\n",
              "      <td>16</td>\n",
              "      <td>512</td>\n",
              "      <td>SSD</td>\n",
              "      <td>NaN</td>\n",
              "      <td>15.6</td>\n",
              "      <td>No</td>\n",
              "      <td>669.01</td>\n",
              "    </tr>\n",
              "  </tbody>\n",
              "</table>\n",
              "</div>"
            ],
            "text/plain": [
              "                                              Laptop Status   Brand  \\\n",
              "0  ASUS ExpertBook B1 B1502CBA-EJ0436X Intel Core...    New    Asus   \n",
              "1  Alurin Go Start Intel Celeron N4020/8GB/256GB ...    New  Alurin   \n",
              "2  ASUS ExpertBook B1 B1502CBA-EJ0424X Intel Core...    New    Asus   \n",
              "3  MSI Katana GF66 12UC-082XES Intel Core i7-1270...    New     MSI   \n",
              "4  HP 15S-FQ5085NS Intel Core i5-1235U/16GB/512GB...    New      HP   \n",
              "\n",
              "        Model            CPU  RAM  Storage Storage type       GPU  Screen  \\\n",
              "0  ExpertBook  Intel Core i5    8      512          SSD       NaN    15.6   \n",
              "1          Go  Intel Celeron    8      256          SSD       NaN    15.6   \n",
              "2  ExpertBook  Intel Core i3    8      256          SSD       NaN    15.6   \n",
              "3      Katana  Intel Core i7   16     1000          SSD  RTX 3050    15.6   \n",
              "4         15S  Intel Core i5   16      512          SSD       NaN    15.6   \n",
              "\n",
              "  Touch  Final Price  \n",
              "0    No      1009.00  \n",
              "1    No       299.00  \n",
              "2    No       789.00  \n",
              "3    No      1199.00  \n",
              "4    No       669.01  "
            ]
          },
          "execution_count": 9,
          "metadata": {},
          "output_type": "execute_result"
        }
      ],
      "source": [
        "df_laptos_intel = df_laptops[df_laptops['CPU'].fillna('').str.contains('Intel')]\n",
        "\n",
        "df_laptos_intel.head()"
      ]
    },
    {
      "cell_type": "markdown",
      "metadata": {
        "id": "FZgEGD1912cK"
      },
      "source": [
        "Gerando o gráfico:"
      ]
    },
    {
      "cell_type": "code",
      "execution_count": 10,
      "metadata": {
        "colab": {
          "base_uri": "https://localhost:8080/",
          "height": 542
        },
        "id": "bX0UfYNwnEei",
        "outputId": "8c37d21d-7b37-40b6-db13-f10537f30032"
      },
      "outputs": [
        {
          "data": {
            "image/png": "[encoded data removed]",
            "text/plain": [
              "<IPython.core.display.Image object>"
            ]
          },
          "execution_count": 10,
          "metadata": {},
          "output_type": "execute_result"
        }
      ],
      "source": [
        "fig2 = px.box(df_laptos_intel,\n",
        "             x='CPU',\n",
        "             y='Final Price',\n",
        "             title='Box Plot de Preços de Notebooks por CPU (Série Intel)',\n",
        "             labels={'CPU' : 'CPU',\n",
        "                     'Final Price' : 'Preço (Dólares)',\n",
        "                     })\n",
        "\n",
        "img_bytes = pio.to_image(fig2, format=\"png\")\n",
        "\n",
        "Image(img_bytes)"
      ]
    },
    {
      "cell_type": "markdown",
      "metadata": {},
      "source": [
        "Salvando o gráfico como PNG:"
      ]
    },
    {
      "cell_type": "code",
      "execution_count": 11,
      "metadata": {},
      "outputs": [],
      "source": [
        "fig2.write_image(\"figura_boxplot_CPU.png\")"
      ]
    },
    {
      "cell_type": "markdown",
      "metadata": {
        "id": "_XBMrsTOnZZO"
      },
      "source": [
        "### **3ª Análise: Número de modelos por marca**\n",
        "\n",
        "A seguinte análise busca analisar a quantidade de modelos diferentes de notebook que cada marca possui."
      ]
    },
    {
      "cell_type": "markdown",
      "metadata": {
        "id": "Dc55OC0u2BjD"
      },
      "source": [
        "Contando os valores distintos na coluna Model e gerando novo dataframe apenas com as colunas Brand e Distinct_Count:"
      ]
    },
    {
      "cell_type": "code",
      "execution_count": 12,
      "metadata": {
        "colab": {
          "base_uri": "https://localhost:8080/",
          "height": 206
        },
        "id": "GUi7HGpdoPVc",
        "outputId": "01e1d939-48f1-4965-80d5-b3fb620b2585"
      },
      "outputs": [
        {
          "data": {
            "application/vnd.microsoft.datawrangler.viewer.v0+json": {
              "columns": [
                {
                  "name": "index",
                  "rawType": "int64",
                  "type": "integer"
                },
                {
                  "name": "Brand",
                  "rawType": "object",
                  "type": "string"
                },
                {
                  "name": "Distinct_Count",
                  "rawType": "int64",
                  "type": "integer"
                }
              ],
              "conversionMethod": "pd.DataFrame",
              "ref": "cc66001e-fd20-4a29-9521-e76819be64e7",
              "rows": [
                [
                  "0",
                  "Acer",
                  "10"
                ],
                [
                  "1",
                  "Alurin",
                  "4"
                ],
                [
                  "2",
                  "Apple",
                  "3"
                ],
                [
                  "3",
                  "Asus",
                  "20"
                ],
                [
                  "4",
                  "Deep Gaming",
                  "1"
                ]
              ],
              "shape": {
                "columns": 2,
                "rows": 5
              }
            },
            "text/html": [
              "<div>\n",
              "<style scoped>\n",
              "    .dataframe tbody tr th:only-of-type {\n",
              "        vertical-align: middle;\n",
              "    }\n",
              "\n",
              "    .dataframe tbody tr th {\n",
              "        vertical-align: top;\n",
              "    }\n",
              "\n",
              "    .dataframe thead th {\n",
              "        text-align: right;\n",
              "    }\n",
              "</style>\n",
              "<table border=\"1\" class=\"dataframe\">\n",
              "  <thead>\n",
              "    <tr style=\"text-align: right;\">\n",
              "      <th></th>\n",
              "      <th>Brand</th>\n",
              "      <th>Distinct_Count</th>\n",
              "    </tr>\n",
              "  </thead>\n",
              "  <tbody>\n",
              "    <tr>\n",
              "      <th>0</th>\n",
              "      <td>Acer</td>\n",
              "      <td>10</td>\n",
              "    </tr>\n",
              "    <tr>\n",
              "      <th>1</th>\n",
              "      <td>Alurin</td>\n",
              "      <td>4</td>\n",
              "    </tr>\n",
              "    <tr>\n",
              "      <th>2</th>\n",
              "      <td>Apple</td>\n",
              "      <td>3</td>\n",
              "    </tr>\n",
              "    <tr>\n",
              "      <th>3</th>\n",
              "      <td>Asus</td>\n",
              "      <td>20</td>\n",
              "    </tr>\n",
              "    <tr>\n",
              "      <th>4</th>\n",
              "      <td>Deep Gaming</td>\n",
              "      <td>1</td>\n",
              "    </tr>\n",
              "  </tbody>\n",
              "</table>\n",
              "</div>"
            ],
            "text/plain": [
              "         Brand  Distinct_Count\n",
              "0         Acer              10\n",
              "1       Alurin               4\n",
              "2        Apple               3\n",
              "3         Asus              20\n",
              "4  Deep Gaming               1"
            ]
          },
          "execution_count": 12,
          "metadata": {},
          "output_type": "execute_result"
        }
      ],
      "source": [
        "distinct_counts = df_laptops.groupby('Brand')['Model'].nunique()\n",
        "\n",
        "df_distinct_counts = distinct_counts.reset_index()\n",
        "df_distinct_counts.columns = ['Brand', 'Distinct_Count']\n",
        "\n",
        "df_distinct_counts.head()"
      ]
    },
    {
      "cell_type": "markdown",
      "metadata": {
        "id": "rOWIlX6t2Snf"
      },
      "source": [
        "Gerando o gráfico:"
      ]
    },
    {
      "cell_type": "code",
      "execution_count": 13,
      "metadata": {
        "colab": {
          "base_uri": "https://localhost:8080/",
          "height": 542
        },
        "id": "HsttrGlpzzox",
        "outputId": "aee00cce-4fc1-44f8-e45a-4b09a412b104"
      },
      "outputs": [
        {
          "data": {
            "image/png": "[encoded data removed]",
            "text/plain": [
              "<IPython.core.display.Image object>"
            ]
          },
          "execution_count": 13,
          "metadata": {},
          "output_type": "execute_result"
        }
      ],
      "source": [
        "fig3 = px.bar(df_distinct_counts,\n",
        "             x='Brand',\n",
        "             y='Distinct_Count',\n",
        "             title='Número de Modelos de Notebooks por Marca',\n",
        "             labels={'Brand' : 'Marca',\n",
        "                     'Distinct_Count' : 'Número de Modelos',\n",
        "                     })\n",
        "\n",
        "img_bytes = pio.to_image(fig3, format=\"png\")\n",
        "\n",
        "Image(img_bytes)"
      ]
    },
    {
      "cell_type": "markdown",
      "metadata": {},
      "source": [
        "Salvando gráfico como PNG:"
      ]
    },
    {
      "cell_type": "code",
      "execution_count": 14,
      "metadata": {},
      "outputs": [],
      "source": [
        "fig3.write_image(\"figura_barchart_brands.png\")"
      ]
    }
  ],
  "metadata": {
    "colab": {
      "provenance": []
    },
    "kernelspec": {
      "display_name": "venv_pb_tp3",
      "language": "python",
      "name": "python3"
    },
    "language_info": {
      "codemirror_mode": {
        "name": "ipython",
        "version": 3
      },
      "file_extension": ".py",
      "mimetype": "text/x-python",
      "name": "python",
      "nbconvert_exporter": "python",
      "pygments_lexer": "ipython3",
      "version": "3.11.9"
    }
  },
  "nbformat": 4,
  "nbformat_minor": 0
}
